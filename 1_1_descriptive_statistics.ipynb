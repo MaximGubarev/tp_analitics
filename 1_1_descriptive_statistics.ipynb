{
 "cells": [
  {
   "cell_type": "markdown",
   "metadata": {},
   "source": [
    "## Импортируем необходимые бибилиотеки"
   ]
  },
  {
   "cell_type": "code",
   "execution_count": 25,
   "metadata": {},
   "outputs": [],
   "source": [
    "import pandas as pd\n",
    "import numpy as np"
   ]
  },
  {
   "cell_type": "markdown",
   "metadata": {},
   "source": [
    "## Объявим тестовые данные"
   ]
  },
  {
   "cell_type": "code",
   "execution_count": 76,
   "metadata": {},
   "outputs": [],
   "source": [
    "sample_data = pd.DataFrame({\"menu_position\": [i for i in range(1, 5)] * 2,\n",
    "                            \"menu_price\": [300,300,330,370,100,300,400,500], \n",
    "                            \"bar\": [\"Cohortoshnaya\" for i in range(4)] + [\"Voronoshnaya\" for i in range(4)]})"
   ]
  },
  {
   "cell_type": "code",
   "execution_count": 77,
   "metadata": {},
   "outputs": [
    {
     "data": {
      "text/html": [
       "<div>\n",
       "<style scoped>\n",
       "    .dataframe tbody tr th:only-of-type {\n",
       "        vertical-align: middle;\n",
       "    }\n",
       "\n",
       "    .dataframe tbody tr th {\n",
       "        vertical-align: top;\n",
       "    }\n",
       "\n",
       "    .dataframe thead th {\n",
       "        text-align: right;\n",
       "    }\n",
       "</style>\n",
       "<table border=\"1\" class=\"dataframe\">\n",
       "  <thead>\n",
       "    <tr style=\"text-align: right;\">\n",
       "      <th></th>\n",
       "      <th>menu_position</th>\n",
       "      <th>menu_price</th>\n",
       "      <th>bar</th>\n",
       "    </tr>\n",
       "  </thead>\n",
       "  <tbody>\n",
       "    <tr>\n",
       "      <th>0</th>\n",
       "      <td>1</td>\n",
       "      <td>300</td>\n",
       "      <td>Cohortoshnaya</td>\n",
       "    </tr>\n",
       "    <tr>\n",
       "      <th>1</th>\n",
       "      <td>2</td>\n",
       "      <td>300</td>\n",
       "      <td>Cohortoshnaya</td>\n",
       "    </tr>\n",
       "    <tr>\n",
       "      <th>2</th>\n",
       "      <td>3</td>\n",
       "      <td>330</td>\n",
       "      <td>Cohortoshnaya</td>\n",
       "    </tr>\n",
       "    <tr>\n",
       "      <th>3</th>\n",
       "      <td>4</td>\n",
       "      <td>370</td>\n",
       "      <td>Cohortoshnaya</td>\n",
       "    </tr>\n",
       "    <tr>\n",
       "      <th>4</th>\n",
       "      <td>1</td>\n",
       "      <td>100</td>\n",
       "      <td>Voronoshnaya</td>\n",
       "    </tr>\n",
       "    <tr>\n",
       "      <th>5</th>\n",
       "      <td>2</td>\n",
       "      <td>300</td>\n",
       "      <td>Voronoshnaya</td>\n",
       "    </tr>\n",
       "    <tr>\n",
       "      <th>6</th>\n",
       "      <td>3</td>\n",
       "      <td>400</td>\n",
       "      <td>Voronoshnaya</td>\n",
       "    </tr>\n",
       "    <tr>\n",
       "      <th>7</th>\n",
       "      <td>4</td>\n",
       "      <td>500</td>\n",
       "      <td>Voronoshnaya</td>\n",
       "    </tr>\n",
       "  </tbody>\n",
       "</table>\n",
       "</div>"
      ],
      "text/plain": [
       "   menu_position  menu_price            bar\n",
       "0              1         300  Cohortoshnaya\n",
       "1              2         300  Cohortoshnaya\n",
       "2              3         330  Cohortoshnaya\n",
       "3              4         370  Cohortoshnaya\n",
       "4              1         100   Voronoshnaya\n",
       "5              2         300   Voronoshnaya\n",
       "6              3         400   Voronoshnaya\n",
       "7              4         500   Voronoshnaya"
      ]
     },
     "execution_count": 77,
     "metadata": {},
     "output_type": "execute_result"
    }
   ],
   "source": [
    "sample_data"
   ]
  },
  {
   "cell_type": "markdown",
   "metadata": {},
   "source": [
    "## Посчитаем описательные статистики для каждого бара"
   ]
  },
  {
   "cell_type": "code",
   "execution_count": 78,
   "metadata": {
    "scrolled": true
   },
   "outputs": [
    {
     "data": {
      "text/html": [
       "<div>\n",
       "<style scoped>\n",
       "    .dataframe tbody tr th:only-of-type {\n",
       "        vertical-align: middle;\n",
       "    }\n",
       "\n",
       "    .dataframe tbody tr th {\n",
       "        vertical-align: top;\n",
       "    }\n",
       "\n",
       "    .dataframe thead th {\n",
       "        text-align: right;\n",
       "    }\n",
       "</style>\n",
       "<table border=\"1\" class=\"dataframe\">\n",
       "  <thead>\n",
       "    <tr style=\"text-align: right;\">\n",
       "      <th></th>\n",
       "      <th>bar</th>\n",
       "      <th>.n</th>\n",
       "      <th>.mu</th>\n",
       "      <th>.var</th>\n",
       "      <th>.sd</th>\n",
       "    </tr>\n",
       "  </thead>\n",
       "  <tbody>\n",
       "    <tr>\n",
       "      <th>0</th>\n",
       "      <td>Cohortoshnaya</td>\n",
       "      <td>4</td>\n",
       "      <td>325</td>\n",
       "      <td>1100.000000</td>\n",
       "      <td>33.166248</td>\n",
       "    </tr>\n",
       "    <tr>\n",
       "      <th>1</th>\n",
       "      <td>Voronoshnaya</td>\n",
       "      <td>4</td>\n",
       "      <td>325</td>\n",
       "      <td>29166.666667</td>\n",
       "      <td>170.782513</td>\n",
       "    </tr>\n",
       "  </tbody>\n",
       "</table>\n",
       "</div>"
      ],
      "text/plain": [
       "             bar  .n  .mu          .var         .sd\n",
       "0  Cohortoshnaya   4  325   1100.000000   33.166248\n",
       "1   Voronoshnaya   4  325  29166.666667  170.782513"
      ]
     },
     "execution_count": 78,
     "metadata": {},
     "output_type": "execute_result"
    }
   ],
   "source": [
    "sample_data.groupby(by=\"bar\", as_index=False).menu_price.agg({\".n\": \"count\", # количество уникальных позиций в меню\n",
    "                                                              \".mu\": \"mean\", # мат. ожидание\n",
    "                                                              \".var\": \"var\", # дисперсия\n",
    "                                                              \".sd\": \"std\"}) # стандартное отклонение"
   ]
  },
  {
   "cell_type": "markdown",
   "metadata": {},
   "source": [
    "## Далее посчитаем коэффициент вариации для каждого бара\n",
    "\n",
    "Коэф. вариации позволяет оценить вариативность в процентах\n",
    "\n",
    "Принято считать, что метрика с вариацией > 30% считается сильно шумной \n",
    "\n",
    "30% - это скорее условность, но тем не менее, видно, что Вороношная имеет вариацию больше"
   ]
  },
  {
   "cell_type": "code",
   "execution_count": 79,
   "metadata": {},
   "outputs": [
    {
     "name": "stdout",
     "output_type": "stream",
     "text": [
      "Cohortoshnaya 10.204999354939693\n",
      "Voronoshnaya 52.54846546645948\n"
     ]
    }
   ],
   "source": [
    "for key, group in sample_data.groupby('bar', as_index=False):\n",
    "    print(key, \n",
    "          np.std(group.menu_price, ddof=1) / np.mean(group.menu_price) * 100)"
   ]
  },
  {
   "cell_type": "code",
   "execution_count": null,
   "metadata": {},
   "outputs": [],
   "source": []
  },
  {
   "cell_type": "code",
   "execution_count": null,
   "metadata": {},
   "outputs": [],
   "source": []
  }
 ],
 "metadata": {
  "kernelspec": {
   "display_name": "Python 3",
   "language": "python",
   "name": "python3"
  },
  "language_info": {
   "codemirror_mode": {
    "name": "ipython",
    "version": 3
   },
   "file_extension": ".py",
   "mimetype": "text/x-python",
   "name": "python",
   "nbconvert_exporter": "python",
   "pygments_lexer": "ipython3",
   "version": "3.7.6"
  }
 },
 "nbformat": 4,
 "nbformat_minor": 4
}
